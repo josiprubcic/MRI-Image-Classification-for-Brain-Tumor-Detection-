{
 "cells": [
  {
   "cell_type": "markdown",
   "id": "c19e6a06",
   "metadata": {},
   "source": [
    "# Brain Tumor Detection with KNN, HOG i GLCM značajkama\n",
    "Ova bilježnica prikazuje detekciju tumora mozga na MRI slikama korištenjem KNN algoritma i naprednih metoda ekstrakcije značajki: HOG i GLCM."
   ]
  },
  {
   "cell_type": "markdown",
   "id": "375970b4",
   "metadata": {},
   "source": [
    "## 1. Uvod i ciljevi\n",
    "Cilj je izgraditi model koji klasificira MRI slike na tumorske i netumorske koristeći KNN algoritam i kombinaciju HOG i GLCM značajki. Skup podataka: `BinaryBrainTumorDataset` s dvije klase: \"yes\" (tumor) i \"no\" (bez tumora)."
   ]
  },
  {
   "cell_type": "code",
   "execution_count": null,
   "id": "6f8191ea",
   "metadata": {},
   "outputs": [],
   "source": [
    "import os\n",
    "import numpy as np\n",
    "import matplotlib.pyplot as plt\n",
    "import cv2\n",
    "import imutils\n",
    "from sklearn.model_selection import train_test_split\n",
    "from sklearn.neighbors import KNeighborsClassifier\n",
    "from sklearn.metrics import accuracy_score, confusion_matrix, classification_report, roc_curve, auc\n",
    "import seaborn as sns\n",
    "from skimage.feature import hog, graycomatrix, graycoprops\n",
    "from sklearn.preprocessing import StandardScaler"
   ]
  },
  {
   "cell_type": "markdown",
   "id": "830a7beb",
   "metadata": {},
   "source": [
    "## 2. Učitavanje i raspodjela podataka\n",
    "Učitavamo slike iz direktorija, raspodjeljujemo ih na train i validation skupove."
   ]
  },
  {
   "cell_type": "code",
   "execution_count": null,
   "id": "b1c22b5a",
   "metadata": {},
   "outputs": [],
   "source": [
    "IMG_SIZE = (96, 96)\n",
    "DATASET_DIR = \"../data/BinaryBrainTumorDataset/Training\"\n",
    "\n",
    "def load_images_from_folder(folder, label, img_size):\n",
    "    images = []\n",
    "    labels = []\n",
    "    for filename in os.listdir(folder):\n",
    "        img_path = os.path.join(folder, filename)\n",
    "        img = cv2.imread(img_path)\n",
    "        if img is not None:\n",
    "            img = cv2.cvtColor(img, cv2.COLOR_BGR2RGB)\n",
    "            img = cv2.resize(img, img_size)\n",
    "            images.append(img)\n",
    "            labels.append(label)\n",
    "    return images, labels\n",
    "\n",
    "X = []\n",
    "y = []\n",
    "for class_name in [\"yes\", \"no\"]:\n",
    "    imgs, labels = load_images_from_folder(os.path.join(DATASET_DIR, class_name), 1 if class_name == \"yes\" else 0, IMG_SIZE)\n",
    "    X.extend(imgs)\n",
    "    y.extend(labels)\n",
    "\n",
    "X = np.array(X)\n",
    "y = np.array(y)\n",
    "\n",
    "# Split into train/val\n",
    "X_train, X_val, y_train, y_val = train_test_split(X, y, test_size=0.3, stratify=y, random_state=42)"
   ]
  },
  {
   "cell_type": "markdown",
   "id": "82d4e33d",
   "metadata": {},
   "source": [
    "## 3. Vizualizacija podataka\n",
    "Prikaz nekoliko slika iz obje klase."
   ]
  },
  {
   "cell_type": "code",
   "execution_count": null,
   "id": "d79ad1b3",
   "metadata": {},
   "outputs": [],
   "source": [
    "plt.figure(figsize=(10, 4))\n",
    "for i in range(5):\n",
    "    plt.subplot(2, 5, i+1)\n",
    "    plt.imshow(X_train[y_train == 0][i])\n",
    "    plt.title(\"No Tumor\")\n",
    "    plt.axis(\"off\")\n",
    "    plt.subplot(2, 5, i+6)\n",
    "    plt.imshow(X_train[y_train == 1][i])\n",
    "    plt.title(\"Tumor\")\n",
    "    plt.axis(\"off\")\n",
    "plt.tight_layout()\n",
    "plt.show()"
   ]
  },
  {
   "cell_type": "markdown",
   "id": "280a1fd0",
   "metadata": {},
   "source": [
    "## 4. Predobrada: automatsko croppanje mozga\n",
    "Koristi se kontura za izrezivanje regije mozga iz slike."
   ]
  },
  {
   "cell_type": "code",
   "execution_count": null,
   "id": "aad6b428",
   "metadata": {},
   "outputs": [],
   "source": [
    "def crop_brain(img):\n",
    "    gray = cv2.cvtColor(img, cv2.COLOR_RGB2GRAY)\n",
    "    gray = cv2.GaussianBlur(gray, (5, 5), 0)\n",
    "    thresh = cv2.threshold(gray, 45, 255, cv2.THRESH_BINARY)[1]\n",
    "    thresh = cv2.erode(thresh, None, iterations=2)\n",
    "    thresh = cv2.dilate(thresh, None, iterations=2)\n",
    "    cnts = cv2.findContours(thresh.copy(), cv2.RETR_EXTERNAL, cv2.CHAIN_APPROX_SIMPLE)\n",
    "    cnts = imutils.grab_contours(cnts)\n",
    "    if len(cnts) == 0:\n",
    "        return img\n",
    "    c = max(cnts, key=cv2.contourArea)\n",
    "    extLeft = tuple(c[c[:, :, 0].argmin()][0])\n",
    "    extRight = tuple(c[c[:, :, 0].argmax()][0])\n",
    "    extTop = tuple(c[c[:, :, 1].argmin()][0])\n",
    "    extBot = tuple(c[c[:, :, 1].argmax()][0])\n",
    "    cropped = img[extTop[1]:extBot[1], extLeft[0]:extRight[0]]\n",
    "    cropped = cv2.resize(cropped, IMG_SIZE)\n",
    "    return cropped\n",
    "\n",
    "X_train_crop = np.array([crop_brain(img) for img in X_train])\n",
    "X_val_crop = np.array([crop_brain(img) for img in X_val])"
   ]
  },
  {
   "cell_type": "markdown",
   "id": "68c8d102",
   "metadata": {},
   "source": [
    "## 5. Ekstrakcija HOG i GLCM značajki\n",
    "Izdvajamo HOG i GLCM značajke iz croppanih slika te ih koristimo kao ulaz u KNN model."
   ]
  },
  {
   "cell_type": "code",
   "execution_count": null,
   "id": "699325d7",
   "metadata": {},
   "outputs": [],
   "source": [
    "def extract_hog_features(images):\n",
    "    hog_features = []\n",
    "    for img in images:\n",
    "        gray = cv2.cvtColor(img, cv2.COLOR_RGB2GRAY)\n",
    "        features = hog(gray, pixels_per_cell=(8, 8), cells_per_block=(2, 2), feature_vector=True)\n",
    "        hog_features.append(features)\n",
    "    return np.array(hog_features)\n",
    "\n",
    "def extract_glcm_features(images):\n",
    "    glcm_features = []\n",
    "    for img in images:\n",
    "        gray = cv2.cvtColor(img, cv2.COLOR_RGB2GRAY)\n",
    "        glcm = graycomatrix(gray, distances=[1], angles=[0], levels=256, symmetric=True, normed=True)\n",
    "        contrast = graycoprops(glcm, 'contrast')[0, 0]\n",
    "        homogeneity = graycoprops(glcm, 'homogeneity')[0, 0]\n",
    "        energy = graycoprops(glcm, 'energy')[0, 0]\n",
    "        correlation = graycoprops(glcm, 'correlation')[0, 0]\n",
    "        glcm_features.append([contrast, homogeneity, energy, correlation])\n",
    "    return np.array(glcm_features)\n",
    "\n",
    "# Ekstrakcija značajki za train i val skup\n",
    "X_train_hog = extract_hog_features(X_train_crop)\n",
    "X_val_hog = extract_hog_features(X_val_crop)\n",
    "X_train_glcm = extract_glcm_features(X_train_crop)\n",
    "X_val_glcm = extract_glcm_features(X_val_crop)\n",
    "\n",
    "# Kombiniraj HOG i GLCM značajke\n",
    "X_train_feat = np.concatenate([X_train_hog, X_train_glcm], axis=1)\n",
    "X_val_feat = np.concatenate([X_val_hog, X_val_glcm], axis=1)\n",
    "\n",
    "# Skaliraj značajke\n",
    "scaler_feat = StandardScaler()\n",
    "X_train_feat_scaled = scaler_feat.fit_transform(X_train_feat)\n",
    "X_val_feat_scaled = scaler_feat.transform(X_val_feat)"
   ]
  },
  {
   "cell_type": "markdown",
   "id": "50476667",
   "metadata": {},
   "source": [
    "## 6. Model: KNN na HOG+GLCM značajkama\n",
    "Treniranje i evaluacija KNN modela na izdvojenim značajkama."
   ]
  },
  {
   "cell_type": "code",
   "execution_count": null,
   "id": "e1e9b058",
   "metadata": {},
   "outputs": [],
   "source": [
    "knn_feat = KNeighborsClassifier(n_neighbors=5)\n",
    "knn_feat.fit(X_train_feat_scaled, y_train)\n",
    "\n",
    "val_preds_feat = knn_feat.predict(X_val_feat_scaled)\n",
    "val_probs_feat = knn_feat.predict_proba(X_val_feat_scaled)[:, 1]\n",
    "accuracy_feat = accuracy_score(y_val, val_preds_feat)\n",
    "cm_feat = confusion_matrix(y_val, val_preds_feat)\n",
    "fpr_feat, tpr_feat, _ = roc_curve(y_val, val_probs_feat)\n",
    "roc_auc_feat = auc(fpr_feat, tpr_feat)\n",
    "\n",
    "fig, axes = plt.subplots(1, 3, figsize=(18, 5))\n",
    "# Accuracy\n",
    "axes[0].bar([\"Accuracy\"], [accuracy_feat])\n",
    "axes[0].set_ylim(0, 1)\n",
    "axes[0].set_title(\"Accuracy\")\n",
    "# ROC Curve\n",
    "axes[1].plot(fpr_feat, tpr_feat, label=f\"AUC={roc_auc_feat:.2f}\")\n",
    "axes[1].plot([0, 1], [0, 1], \"k--\")\n",
    "axes[1].set_title(\"ROC Curve\")\n",
    "axes[1].legend()\n",
    "# Confusion Matrix\n",
    "sns.heatmap(cm_feat, annot=True, fmt=\"d\", cmap=\"Blues\", xticklabels=[\"No Tumor\", \"Tumor\"], yticklabels=[\"No Tumor\", \"Tumor\"], ax=axes[2])\n",
    "axes[2].set_xlabel(\"Predicted\")\n",
    "axes[2].set_ylabel(\"Actual\")\n",
    "axes[2].set_title(\"Confusion Matrix\")\n",
    "plt.tight_layout()\n",
    "plt.show()\n",
    "\n",
    "print(f\"Validation Accuracy (HOG+GLCM): {accuracy_feat:.4f}\")\n",
    "print(classification_report(y_val, val_preds_feat, target_names=[\"No Tumor\", \"Tumor\"]))\n",
    "print(f\"AUC-ROC: {roc_auc_feat:.4f}\")"
   ]
  },
  {
   "cell_type": "markdown",
   "id": "35e1abc4",
   "metadata": {},
   "source": [
    "## 7. Zaključak\n",
    "KNN model s HOG i GLCM značajkama omogućuje napredniju analizu MRI slika mozga i može poboljšati detekciju tumora u odnosu na korištenje samo sirovih piksela."
   ]
  }
 ],
 "metadata": {
  "language_info": {
   "name": "python"
  }
 },
 "nbformat": 4,
 "nbformat_minor": 5
}
