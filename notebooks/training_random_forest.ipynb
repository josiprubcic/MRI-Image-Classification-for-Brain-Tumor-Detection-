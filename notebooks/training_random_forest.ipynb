{
 "cells": [
  {
   "cell_type": "markdown",
   "id": "b1cecb6f",
   "metadata": {},
   "source": [
    "# Brain Tumor Detection with Random Forest and Custom Preprocessing\n",
    "Ova bilježnica prikazuje detekciju tumora mozga na MRI slikama korištenjem Random Forest algoritma i vlastitog skupa podataka BinaryBrainTumorDataset."
   ]
  },
  {
   "cell_type": "markdown",
   "id": "f24cb842",
   "metadata": {},
   "source": [
    "## 1. Uvod i ciljevi\n",
    "Cilj je izgraditi model koji klasificira MRI slike na tumorske i netumorske koristeći Random Forest algoritam. Skup podataka: `BinaryBrainTumorDataset` s dvije klase: \"yes\" (tumor) i \"no\" (bez tumora)."
   ]
  },
  {
   "cell_type": "code",
   "execution_count": null,
   "id": "8c6015dd",
   "metadata": {},
   "outputs": [],
   "source": [
    "import os\n",
    "import numpy as np\n",
    "import matplotlib.pyplot as plt\n",
    "import cv2\n",
    "import imutils\n",
    "from sklearn.model_selection import train_test_split\n",
    "from sklearn.ensemble import RandomForestClassifier\n",
    "from sklearn.metrics import accuracy_score, confusion_matrix, classification_report, roc_curve, auc\n",
    "import seaborn as sns"
   ]
  },
  {
   "cell_type": "markdown",
   "id": "3209c0f8",
   "metadata": {},
   "source": [
    "## 2. Učitavanje i raspodjela podataka\n",
    "Učitavamo slike iz direktorija, raspodjeljujemo ih na train, validation i test skupove."
   ]
  },
  {
   "cell_type": "code",
   "execution_count": null,
   "id": "01ebb555",
   "metadata": {},
   "outputs": [],
   "source": [
    "IMG_SIZE = (64, 64)  # Manje slike zbog Random Foresta\n",
    "DATASET_DIR = \"../data/BinaryBrainTumorDataset/Training\"\n",
    "TEST_DIR = \"../data/BinaryBrainTumorDataset/Testing\"\n",
    "\n",
    "def load_images_from_folder(folder, label, img_size):\n",
    "    images = []\n",
    "    labels = []\n",
    "    for filename in os.listdir(folder):\n",
    "        img_path = os.path.join(folder, filename)\n",
    "        img = cv2.imread(img_path)\n",
    "        if img is not None:\n",
    "            img = cv2.cvtColor(img, cv2.COLOR_BGR2RGB)\n",
    "            img = cv2.resize(img, img_size)\n",
    "            images.append(img)\n",
    "            labels.append(label)\n",
    "    return images, labels\n",
    "\n",
    "X = []\n",
    "y = []\n",
    "for class_name in [\"yes\", \"no\"]:\n",
    "    imgs, labels = load_images_from_folder(os.path.join(DATASET_DIR, class_name), 1 if class_name == \"yes\" else 0, IMG_SIZE)\n",
    "    X.extend(imgs)\n",
    "    y.extend(labels)\n",
    "\n",
    "X = np.array(X)\n",
    "y = np.array(y)\n",
    "\n",
    "# Split into train/val\n",
    "X_train, X_val, y_train, y_val = train_test_split(X, y, test_size=0.3, stratify=y, random_state=42)"
   ]
  },
  {
   "cell_type": "markdown",
   "id": "4f990400",
   "metadata": {},
   "source": [
    "## 3. Vizualizacija podataka\n",
    "Prikaz nekoliko slika iz obje klase."
   ]
  },
  {
   "cell_type": "code",
   "execution_count": null,
   "id": "8728c3be",
   "metadata": {},
   "outputs": [],
   "source": [
    "plt.figure(figsize=(10, 4))\n",
    "for i in range(5):\n",
    "    plt.subplot(2, 5, i+1)\n",
    "    plt.imshow(X_train[y_train == 0][i])\n",
    "    plt.title(\"No Tumor\")\n",
    "    plt.axis(\"off\")\n",
    "    plt.subplot(2, 5, i+6)\n",
    "    plt.imshow(X_train[y_train == 1][i])\n",
    "    plt.title(\"Tumor\")\n",
    "    plt.axis(\"off\")\n",
    "plt.tight_layout()\n",
    "plt.show()"
   ]
  },
  {
   "cell_type": "markdown",
   "id": "e4283552",
   "metadata": {},
   "source": [
    "## 4. Predobrada: automatsko croppanje mozga\n",
    "Koristi se kontura za izrezivanje regije mozga iz slike."
   ]
  },
  {
   "cell_type": "code",
   "execution_count": null,
   "id": "99412e10",
   "metadata": {},
   "outputs": [],
   "source": [
    "def crop_brain(img):\n",
    "    gray = cv2.cvtColor(img, cv2.COLOR_RGB2GRAY)\n",
    "    gray = cv2.GaussianBlur(gray, (5, 5), 0)\n",
    "    thresh = cv2.threshold(gray, 45, 255, cv2.THRESH_BINARY)[1]\n",
    "    thresh = cv2.erode(thresh, None, iterations=2)\n",
    "    thresh = cv2.dilate(thresh, None, iterations=2)\n",
    "    cnts = cv2.findContours(thresh.copy(), cv2.RETR_EXTERNAL, cv2.CHAIN_APPROX_SIMPLE)\n",
    "    cnts = imutils.grab_contours(cnts)\n",
    "    if len(cnts) == 0:\n",
    "        return img\n",
    "    c = max(cnts, key=cv2.contourArea)\n",
    "    extLeft = tuple(c[c[:, :, 0].argmin()][0])\n",
    "    extRight = tuple(c[c[:, :, 0].argmax()][0])\n",
    "    extTop = tuple(c[c[:, :, 1].argmin()][0])\n",
    "    extBot = tuple(c[c[:, :, 1].argmax()][0])\n",
    "    cropped = img[extTop[1]:extBot[1], extLeft[0]:extRight[0]]\n",
    "    cropped = cv2.resize(cropped, IMG_SIZE)\n",
    "    return cropped\n",
    "\n",
    "X_train_crop = np.array([crop_brain(img) for img in X_train])\n",
    "X_val_crop = np.array([crop_brain(img) for img in X_val])"
   ]
  },
  {
   "cell_type": "markdown",
   "id": "58cc1cd0",
   "metadata": {},
   "source": [
    "## 5. Priprema podataka za Random Forest\n",
    "Slike se pretvaraju u vektore značajki (flatten)."
   ]
  },
  {
   "cell_type": "code",
   "execution_count": null,
   "id": "96b93018",
   "metadata": {},
   "outputs": [],
   "source": [
    "X_train_flat = X_train_crop.reshape(X_train_crop.shape[0], -1)\n",
    "X_val_flat = X_val_crop.reshape(X_val_crop.shape[0], -1)"
   ]
  },
  {
   "cell_type": "markdown",
   "id": "8b971a47",
   "metadata": {},
   "source": [
    "## 6. Model: Random Forest\n",
    "Treniranje Random Forest klasifikatora."
   ]
  },
  {
   "cell_type": "code",
   "execution_count": null,
   "id": "5632d304",
   "metadata": {},
   "outputs": [],
   "source": [
    "rf = RandomForestClassifier(n_estimators=100, random_state=42)\n",
    "rf.fit(X_train_flat, y_train)"
   ]
  },
  {
   "cell_type": "markdown",
   "id": "9e90cb5a",
   "metadata": {},
   "source": [
    "## 7. Evaluacija modela\n",
    "Prikaz točnosti, ROC krivulje i matrice zabune."
   ]
  },
  {
   "cell_type": "code",
   "execution_count": null,
   "id": "317a6012",
   "metadata": {},
   "outputs": [],
   "source": [
    "val_preds = rf.predict(X_val_flat)\n",
    "val_probs = rf.predict_proba(X_val_flat)[:, 1]\n",
    "accuracy = accuracy_score(y_val, val_preds)\n",
    "cm = confusion_matrix(y_val, val_preds)\n",
    "fpr, tpr, _ = roc_curve(y_val, val_probs)\n",
    "roc_auc = auc(fpr, tpr)\n",
    "\n",
    "fig, axes = plt.subplots(1, 3, figsize=(18, 5))\n",
    "# Accuracy\n",
    "axes[0].bar([\"Accuracy\"], [accuracy])\n",
    "axes[0].set_ylim(0, 1)\n",
    "axes[0].set_title(\"Accuracy\")\n",
    "# ROC Curve\n",
    "axes[1].plot(fpr, tpr, label=f\"AUC={roc_auc:.2f}\")\n",
    "axes[1].plot([0, 1], [0, 1], \"k--\")\n",
    "axes[1].set_title(\"ROC Curve\")\n",
    "axes[1].legend()\n",
    "# Confusion Matrix\n",
    "sns.heatmap(cm, annot=True, fmt=\"d\", cmap=\"Blues\", xticklabels=[\"No Tumor\", \"Tumor\"], yticklabels=[\"No Tumor\", \"Tumor\"], ax=axes[2])\n",
    "axes[2].set_xlabel(\"Predicted\")\n",
    "axes[2].set_ylabel(\"Actual\")\n",
    "axes[2].set_title(\"Confusion Matrix\")\n",
    "plt.tight_layout()\n",
    "plt.show()\n",
    "\n",
    "print(f\"Validation Accuracy: {accuracy:.4f}\")\n",
    "print(classification_report(y_val, val_preds, target_names=[\"No Tumor\", \"Tumor\"]))\n",
    "\n",
    "print(f\"Tocnost (accuracy): {accuracy:.4f}\")\n",
    "report_dict = classification_report(y_val, val_preds, target_names=[\"no\", \"yes\"], output_dict=True)\n",
    "print(f\"Preciznost (precision): {report_dict['weighted avg']['precision']:.4f}\")\n",
    "print(f\"F1 rezultat: {report_dict['weighted avg']['f1-score']:.4f}\")\n",
    "print(f\"AUC-ROC: {roc_auc:.4f}\")"
   ]
  },
  {
   "cell_type": "markdown",
   "id": "f694d831",
   "metadata": {},
   "source": [
    "## 8. Zaključak\n",
    "Random Forest model s osnovnom predobradom daje solidne rezultate na zadatku detekcije tumora mozga. Daljnja poboljšanja mogu uključivati naprednije ekstrakcije značajki i optimizaciju hiperparametara."
   ]
  }
 ],
 "metadata": {
  "language_info": {
   "name": "python"
  }
 },
 "nbformat": 4,
 "nbformat_minor": 5
}
